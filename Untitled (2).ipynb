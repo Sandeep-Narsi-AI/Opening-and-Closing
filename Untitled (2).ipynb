{
 "cells": [
  {
   "cell_type": "code",
   "execution_count": 3,
   "id": "093da900",
   "metadata": {},
   "outputs": [],
   "source": [
    "# Import the necessary packages\n",
    "import cv2\n",
    "import numpy as np"
   ]
  },
  {
   "cell_type": "code",
   "execution_count": 4,
   "id": "7faca2cd",
   "metadata": {},
   "outputs": [],
   "source": [
    "# Create the Text using cv2.putText\n",
    "img = np.zeros((100,650),dtype = 'uint8')\n",
    "img = cv2.cvtColor(img,cv2.COLOR_RGB2BGR)\n",
    "font = cv2.FONT_HERSHEY_TRIPLEX\n",
    "cv2.putText(img,'Name is SANDEEP',(4,70),font,2,(245, 66, 66),5,cv2.LINE_AA)\n",
    "\n",
    "cv2.imshow(\"input\",img)\n",
    "cv2.waitKey(0)\n",
    "cv2.destroyAllWindows()"
   ]
  },
  {
   "cell_type": "code",
   "execution_count": 39,
   "id": "4c0792d4",
   "metadata": {},
   "outputs": [],
   "source": [
    "# Create the structuring element\n",
    "kernel=cv2.getStructuringElement(cv2.MORPH_RECT,(9,9))"
   ]
  },
  {
   "cell_type": "code",
   "execution_count": 41,
   "id": "c0518e72",
   "metadata": {},
   "outputs": [],
   "source": [
    "# Use Opening operation\n",
    "image_open=cv2.morphologyEx(img,cv2.MORPH_OPEN,kernel)\n",
    "cv2.imshow(\"open\",image_open)\n",
    "cv2.waitKey(0)\n",
    "cv2.destroyAllWindows()"
   ]
  },
  {
   "cell_type": "code",
   "execution_count": 42,
   "id": "37f4a94a",
   "metadata": {},
   "outputs": [],
   "source": [
    "# Use Closing Operation\n",
    "\n",
    "image_close=cv2.morphologyEx(img,cv2.MORPH_CLOSE,kernel)\n",
    "cv2.imshow(\"close\",image_close)\n",
    "cv2.waitKey(0)\n",
    "cv2.destroyAllWindows()"
   ]
  },
  {
   "cell_type": "code",
   "execution_count": null,
   "id": "edf0086c",
   "metadata": {},
   "outputs": [],
   "source": []
  }
 ],
 "metadata": {
  "kernelspec": {
   "display_name": "Python 3 (ipykernel)",
   "language": "python",
   "name": "python3"
  },
  "language_info": {
   "codemirror_mode": {
    "name": "ipython",
    "version": 3
   },
   "file_extension": ".py",
   "mimetype": "text/x-python",
   "name": "python",
   "nbconvert_exporter": "python",
   "pygments_lexer": "ipython3",
   "version": "3.8.8"
  }
 },
 "nbformat": 4,
 "nbformat_minor": 5
}
